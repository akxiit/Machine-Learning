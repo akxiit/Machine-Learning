{
 "cells": [
  {
   "cell_type": "code",
   "execution_count": 1,
   "id": "60c3c75c",
   "metadata": {},
   "outputs": [
    {
     "name": "stdout",
     "output_type": "stream",
     "text": [
      "Collecting dtreeviz\n",
      "  Downloading dtreeviz-2.2.2-py3-none-any.whl.metadata (2.4 kB)\n",
      "Collecting graphviz>=0.9 (from dtreeviz)\n",
      "  Downloading graphviz-0.20.3-py3-none-any.whl.metadata (12 kB)\n",
      "Requirement already satisfied: pandas in d:\\admin\\anaconda3\\lib\\site-packages (from dtreeviz) (2.2.2)\n",
      "Requirement already satisfied: numpy in d:\\admin\\anaconda3\\lib\\site-packages (from dtreeviz) (1.26.4)\n",
      "Requirement already satisfied: scikit-learn in d:\\admin\\anaconda3\\lib\\site-packages (from dtreeviz) (1.5.1)\n",
      "Requirement already satisfied: matplotlib in d:\\admin\\anaconda3\\lib\\site-packages (from dtreeviz) (3.9.2)\n",
      "Collecting colour (from dtreeviz)\n",
      "  Downloading colour-0.1.5-py2.py3-none-any.whl.metadata (18 kB)\n",
      "Requirement already satisfied: pytest in d:\\admin\\anaconda3\\lib\\site-packages (from dtreeviz) (7.4.4)\n",
      "Requirement already satisfied: contourpy>=1.0.1 in d:\\admin\\anaconda3\\lib\\site-packages (from matplotlib->dtreeviz) (1.2.0)\n",
      "Requirement already satisfied: cycler>=0.10 in d:\\admin\\anaconda3\\lib\\site-packages (from matplotlib->dtreeviz) (0.11.0)\n",
      "Requirement already satisfied: fonttools>=4.22.0 in d:\\admin\\anaconda3\\lib\\site-packages (from matplotlib->dtreeviz) (4.51.0)\n",
      "Requirement already satisfied: kiwisolver>=1.3.1 in d:\\admin\\anaconda3\\lib\\site-packages (from matplotlib->dtreeviz) (1.4.4)\n",
      "Requirement already satisfied: packaging>=20.0 in d:\\admin\\anaconda3\\lib\\site-packages (from matplotlib->dtreeviz) (24.1)\n",
      "Requirement already satisfied: pillow>=8 in d:\\admin\\anaconda3\\lib\\site-packages (from matplotlib->dtreeviz) (10.4.0)\n",
      "Requirement already satisfied: pyparsing>=2.3.1 in d:\\admin\\anaconda3\\lib\\site-packages (from matplotlib->dtreeviz) (3.1.2)\n",
      "Requirement already satisfied: python-dateutil>=2.7 in d:\\admin\\anaconda3\\lib\\site-packages (from matplotlib->dtreeviz) (2.9.0.post0)\n",
      "Requirement already satisfied: pytz>=2020.1 in d:\\admin\\anaconda3\\lib\\site-packages (from pandas->dtreeviz) (2024.1)\n",
      "Requirement already satisfied: tzdata>=2022.7 in d:\\admin\\anaconda3\\lib\\site-packages (from pandas->dtreeviz) (2023.3)\n",
      "Requirement already satisfied: iniconfig in d:\\admin\\anaconda3\\lib\\site-packages (from pytest->dtreeviz) (1.1.1)\n",
      "Requirement already satisfied: pluggy<2.0,>=0.12 in d:\\admin\\anaconda3\\lib\\site-packages (from pytest->dtreeviz) (1.0.0)\n",
      "Requirement already satisfied: colorama in d:\\admin\\anaconda3\\lib\\site-packages (from pytest->dtreeviz) (0.4.6)\n",
      "Requirement already satisfied: scipy>=1.6.0 in d:\\admin\\anaconda3\\lib\\site-packages (from scikit-learn->dtreeviz) (1.13.1)\n",
      "Requirement already satisfied: joblib>=1.2.0 in d:\\admin\\anaconda3\\lib\\site-packages (from scikit-learn->dtreeviz) (1.4.2)\n",
      "Requirement already satisfied: threadpoolctl>=3.1.0 in d:\\admin\\anaconda3\\lib\\site-packages (from scikit-learn->dtreeviz) (3.5.0)\n",
      "Requirement already satisfied: six>=1.5 in d:\\admin\\anaconda3\\lib\\site-packages (from python-dateutil>=2.7->matplotlib->dtreeviz) (1.16.0)\n",
      "Downloading dtreeviz-2.2.2-py3-none-any.whl (91 kB)\n",
      "Downloading graphviz-0.20.3-py3-none-any.whl (47 kB)\n",
      "Downloading colour-0.1.5-py2.py3-none-any.whl (23 kB)\n",
      "Installing collected packages: colour, graphviz, dtreeviz\n",
      "Successfully installed colour-0.1.5 dtreeviz-2.2.2 graphviz-0.20.3\n"
     ]
    }
   ],
   "source": [
    "!pip install dtreeviz"
   ]
  },
  {
   "cell_type": "code",
   "execution_count": 2,
   "id": "4a0ff7e8",
   "metadata": {},
   "outputs": [],
   "source": [
    "import graphviz.backend as be"
   ]
  },
  {
   "cell_type": "code",
   "execution_count": 3,
   "id": "9784cac6",
   "metadata": {},
   "outputs": [
    {
     "ename": "ModuleNotFoundError",
     "evalue": "No module named 'sklearn.dtreeviz'",
     "output_type": "error",
     "traceback": [
      "\u001b[1;31m---------------------------------------------------------------------------\u001b[0m",
      "\u001b[1;31mModuleNotFoundError\u001b[0m                       Traceback (most recent call last)",
      "Cell \u001b[1;32mIn[3], line 2\u001b[0m\n\u001b[0;32m      1\u001b[0m \u001b[38;5;28;01mfrom\u001b[39;00m \u001b[38;5;21;01msklearn\u001b[39;00m\u001b[38;5;21;01m.\u001b[39;00m\u001b[38;5;21;01mdatasets\u001b[39;00m \u001b[38;5;28;01mimport\u001b[39;00m \u001b[38;5;241m*\u001b[39m\n\u001b[1;32m----> 2\u001b[0m \u001b[38;5;28;01mfrom\u001b[39;00m \u001b[38;5;21;01msklearn\u001b[39;00m\u001b[38;5;21;01m.\u001b[39;00m\u001b[38;5;21;01mdtreeviz\u001b[39;00m \u001b[38;5;28;01mimport\u001b[39;00m \u001b[38;5;241m*\u001b[39m\n\u001b[0;32m      3\u001b[0m \u001b[38;5;28;01mfrom\u001b[39;00m \u001b[38;5;21;01mIPython\u001b[39;00m\u001b[38;5;21;01m.\u001b[39;00m\u001b[38;5;21;01mdisplay\u001b[39;00m \u001b[38;5;28;01mimport\u001b[39;00m Image, display_svg, SVG\n",
      "\u001b[1;31mModuleNotFoundError\u001b[0m: No module named 'sklearn.dtreeviz'"
     ]
    }
   ],
   "source": [
    "from sklearn.datasets import *\n",
    "from sklearn.dtreeviz import *\n",
    "from IPython.display import Image, display_svg, SVG"
   ]
  }
 ],
 "metadata": {
  "kernelspec": {
   "display_name": "base",
   "language": "python",
   "name": "python3"
  },
  "language_info": {
   "codemirror_mode": {
    "name": "ipython",
    "version": 3
   },
   "file_extension": ".py",
   "mimetype": "text/x-python",
   "name": "python",
   "nbconvert_exporter": "python",
   "pygments_lexer": "ipython3",
   "version": "3.12.7"
  }
 },
 "nbformat": 4,
 "nbformat_minor": 5
}
