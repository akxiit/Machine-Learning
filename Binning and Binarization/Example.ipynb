{
 "cells": [
  {
   "cell_type": "code",
   "execution_count": 2,
   "id": "22a7c118-20d1-44bb-baa2-efb7d56aa348",
   "metadata": {},
   "outputs": [],
   "source": [
    "import numpy as np\n",
    "import pandas as pd\n",
    "import matplotlib.pyplot as plt\n",
    "import seaborn as sns\n",
    "\n",
    "from sklearn.model_selection import train_test_split, cross_val_score\n",
    "from sklearn.tree import DecisionTreeClassifier\n",
    "from sklearn.preprocessing import KBinsDiscretizer\n",
    "from sklearn.metrics import accuracy_score\n",
    "from sklearn.compose import ColumnTransformer\n"
   ]
  },
  {
   "cell_type": "code",
   "execution_count": 30,
   "id": "fb0f320e-b888-478f-8264-40910545bbf3",
   "metadata": {},
   "outputs": [],
   "source": [
    "df = pd.read_csv('insurance.csv' ,usecols=['age','bmi','charges','smoker'])"
   ]
  },
  {
   "cell_type": "code",
   "execution_count": 32,
   "id": "5cc5db1a-d0fe-4d54-8ef6-9ae86b8569b0",
   "metadata": {},
   "outputs": [
    {
     "data": {
      "text/html": [
       "<div>\n",
       "<style scoped>\n",
       "    .dataframe tbody tr th:only-of-type {\n",
       "        vertical-align: middle;\n",
       "    }\n",
       "\n",
       "    .dataframe tbody tr th {\n",
       "        vertical-align: top;\n",
       "    }\n",
       "\n",
       "    .dataframe thead th {\n",
       "        text-align: right;\n",
       "    }\n",
       "</style>\n",
       "<table border=\"1\" class=\"dataframe\">\n",
       "  <thead>\n",
       "    <tr style=\"text-align: right;\">\n",
       "      <th></th>\n",
       "      <th>age</th>\n",
       "      <th>bmi</th>\n",
       "      <th>smoker</th>\n",
       "      <th>charges</th>\n",
       "    </tr>\n",
       "  </thead>\n",
       "  <tbody>\n",
       "    <tr>\n",
       "      <th>0</th>\n",
       "      <td>19</td>\n",
       "      <td>27.900</td>\n",
       "      <td>yes</td>\n",
       "      <td>16884.92400</td>\n",
       "    </tr>\n",
       "    <tr>\n",
       "      <th>1</th>\n",
       "      <td>18</td>\n",
       "      <td>33.770</td>\n",
       "      <td>no</td>\n",
       "      <td>1725.55230</td>\n",
       "    </tr>\n",
       "    <tr>\n",
       "      <th>2</th>\n",
       "      <td>28</td>\n",
       "      <td>33.000</td>\n",
       "      <td>no</td>\n",
       "      <td>4449.46200</td>\n",
       "    </tr>\n",
       "    <tr>\n",
       "      <th>3</th>\n",
       "      <td>33</td>\n",
       "      <td>22.705</td>\n",
       "      <td>no</td>\n",
       "      <td>21984.47061</td>\n",
       "    </tr>\n",
       "    <tr>\n",
       "      <th>4</th>\n",
       "      <td>32</td>\n",
       "      <td>28.880</td>\n",
       "      <td>no</td>\n",
       "      <td>3866.85520</td>\n",
       "    </tr>\n",
       "  </tbody>\n",
       "</table>\n",
       "</div>"
      ],
      "text/plain": [
       "   age     bmi smoker      charges\n",
       "0   19  27.900    yes  16884.92400\n",
       "1   18  33.770     no   1725.55230\n",
       "2   28  33.000     no   4449.46200\n",
       "3   33  22.705     no  21984.47061\n",
       "4   32  28.880     no   3866.85520"
      ]
     },
     "execution_count": 32,
     "metadata": {},
     "output_type": "execute_result"
    }
   ],
   "source": [
    "df.head()"
   ]
  },
  {
   "cell_type": "code",
   "execution_count": 34,
   "id": "95d43a00-8ae5-497f-a4f3-41b8edfcc586",
   "metadata": {},
   "outputs": [
    {
     "data": {
      "text/plain": [
       "age        0\n",
       "bmi        0\n",
       "smoker     0\n",
       "charges    0\n",
       "dtype: int64"
      ]
     },
     "execution_count": 34,
     "metadata": {},
     "output_type": "execute_result"
    }
   ],
   "source": [
    "df.isna().sum()"
   ]
  },
  {
   "cell_type": "code",
   "execution_count": 36,
   "id": "639a45b1-12b8-426c-9f92-01d4872b8dfb",
   "metadata": {},
   "outputs": [
    {
     "data": {
      "text/html": [
       "<div>\n",
       "<style scoped>\n",
       "    .dataframe tbody tr th:only-of-type {\n",
       "        vertical-align: middle;\n",
       "    }\n",
       "\n",
       "    .dataframe tbody tr th {\n",
       "        vertical-align: top;\n",
       "    }\n",
       "\n",
       "    .dataframe thead th {\n",
       "        text-align: right;\n",
       "    }\n",
       "</style>\n",
       "<table border=\"1\" class=\"dataframe\">\n",
       "  <thead>\n",
       "    <tr style=\"text-align: right;\">\n",
       "      <th></th>\n",
       "      <th>age</th>\n",
       "      <th>bmi</th>\n",
       "      <th>charges</th>\n",
       "    </tr>\n",
       "  </thead>\n",
       "  <tbody>\n",
       "    <tr>\n",
       "      <th>count</th>\n",
       "      <td>1338.000000</td>\n",
       "      <td>1338.000000</td>\n",
       "      <td>1338.000000</td>\n",
       "    </tr>\n",
       "    <tr>\n",
       "      <th>mean</th>\n",
       "      <td>39.207025</td>\n",
       "      <td>30.663397</td>\n",
       "      <td>13270.422265</td>\n",
       "    </tr>\n",
       "    <tr>\n",
       "      <th>std</th>\n",
       "      <td>14.049960</td>\n",
       "      <td>6.098187</td>\n",
       "      <td>12110.011237</td>\n",
       "    </tr>\n",
       "    <tr>\n",
       "      <th>min</th>\n",
       "      <td>18.000000</td>\n",
       "      <td>15.960000</td>\n",
       "      <td>1121.873900</td>\n",
       "    </tr>\n",
       "    <tr>\n",
       "      <th>25%</th>\n",
       "      <td>27.000000</td>\n",
       "      <td>26.296250</td>\n",
       "      <td>4740.287150</td>\n",
       "    </tr>\n",
       "    <tr>\n",
       "      <th>50%</th>\n",
       "      <td>39.000000</td>\n",
       "      <td>30.400000</td>\n",
       "      <td>9382.033000</td>\n",
       "    </tr>\n",
       "    <tr>\n",
       "      <th>75%</th>\n",
       "      <td>51.000000</td>\n",
       "      <td>34.693750</td>\n",
       "      <td>16639.912515</td>\n",
       "    </tr>\n",
       "    <tr>\n",
       "      <th>max</th>\n",
       "      <td>64.000000</td>\n",
       "      <td>53.130000</td>\n",
       "      <td>63770.428010</td>\n",
       "    </tr>\n",
       "  </tbody>\n",
       "</table>\n",
       "</div>"
      ],
      "text/plain": [
       "               age          bmi       charges\n",
       "count  1338.000000  1338.000000   1338.000000\n",
       "mean     39.207025    30.663397  13270.422265\n",
       "std      14.049960     6.098187  12110.011237\n",
       "min      18.000000    15.960000   1121.873900\n",
       "25%      27.000000    26.296250   4740.287150\n",
       "50%      39.000000    30.400000   9382.033000\n",
       "75%      51.000000    34.693750  16639.912515\n",
       "max      64.000000    53.130000  63770.428010"
      ]
     },
     "execution_count": 36,
     "metadata": {},
     "output_type": "execute_result"
    }
   ],
   "source": [
    "df.describe()"
   ]
  },
  {
   "cell_type": "code",
   "execution_count": 38,
   "id": "64e73e55-be97-4768-bdfe-930b1deb8bdb",
   "metadata": {},
   "outputs": [],
   "source": [
    "x = df.drop(columns=['smoker'])\n",
    "y = df['smoker']"
   ]
  },
  {
   "cell_type": "code",
   "execution_count": 40,
   "id": "d62770d0-937c-41bb-952e-97bd252e6cdf",
   "metadata": {},
   "outputs": [],
   "source": [
    "X_train, X_test, y_train, y_test = train_test_split(x,y,test_size=0.2,random_state=42)"
   ]
  },
  {
   "cell_type": "code",
   "execution_count": 86,
   "id": "d899e4c7-bc33-4d62-95f5-75781b0a44ce",
   "metadata": {},
   "outputs": [
    {
     "data": {
      "text/html": [
       "<div>\n",
       "<style scoped>\n",
       "    .dataframe tbody tr th:only-of-type {\n",
       "        vertical-align: middle;\n",
       "    }\n",
       "\n",
       "    .dataframe tbody tr th {\n",
       "        vertical-align: top;\n",
       "    }\n",
       "\n",
       "    .dataframe thead th {\n",
       "        text-align: right;\n",
       "    }\n",
       "</style>\n",
       "<table border=\"1\" class=\"dataframe\">\n",
       "  <thead>\n",
       "    <tr style=\"text-align: right;\">\n",
       "      <th></th>\n",
       "      <th>age</th>\n",
       "      <th>bmi</th>\n",
       "      <th>charges</th>\n",
       "    </tr>\n",
       "  </thead>\n",
       "  <tbody>\n",
       "    <tr>\n",
       "      <th>348</th>\n",
       "      <td>36</td>\n",
       "      <td>29.920</td>\n",
       "      <td>5478.03680</td>\n",
       "    </tr>\n",
       "    <tr>\n",
       "      <th>1207</th>\n",
       "      <td>36</td>\n",
       "      <td>33.400</td>\n",
       "      <td>38415.47400</td>\n",
       "    </tr>\n",
       "    <tr>\n",
       "      <th>1016</th>\n",
       "      <td>19</td>\n",
       "      <td>24.605</td>\n",
       "      <td>2709.24395</td>\n",
       "    </tr>\n",
       "    <tr>\n",
       "      <th>1318</th>\n",
       "      <td>35</td>\n",
       "      <td>39.710</td>\n",
       "      <td>19496.71917</td>\n",
       "    </tr>\n",
       "    <tr>\n",
       "      <th>784</th>\n",
       "      <td>31</td>\n",
       "      <td>29.260</td>\n",
       "      <td>4350.51440</td>\n",
       "    </tr>\n",
       "  </tbody>\n",
       "</table>\n",
       "</div>"
      ],
      "text/plain": [
       "      age     bmi      charges\n",
       "348    36  29.920   5478.03680\n",
       "1207   36  33.400  38415.47400\n",
       "1016   19  24.605   2709.24395\n",
       "1318   35  39.710  19496.71917\n",
       "784    31  29.260   4350.51440"
      ]
     },
     "execution_count": 86,
     "metadata": {},
     "output_type": "execute_result"
    }
   ],
   "source": [
    "X_train.sample(5)"
   ]
  },
  {
   "cell_type": "code",
   "execution_count": 44,
   "id": "a4b9bb94-46d2-4c47-8d35-9b6e37a4e40a",
   "metadata": {},
   "outputs": [],
   "source": [
    "clf= DecisionTreeClassifier()"
   ]
  },
  {
   "cell_type": "code",
   "execution_count": 48,
   "id": "48c2c7bf-4175-4215-8248-15054afa1874",
   "metadata": {},
   "outputs": [
    {
     "data": {
      "text/plain": [
       "0.9701492537313433"
      ]
     },
     "execution_count": 48,
     "metadata": {},
     "output_type": "execute_result"
    }
   ],
   "source": [
    "clf.fit(X_train, y_train)\n",
    "y_prd = clf.predict(X_test)\n",
    "accuracy_score(y_test, y_prd)"
   ]
  },
  {
   "cell_type": "code",
   "execution_count": 60,
   "id": "f5e1435d-59b2-4c13-b006-e9fdde03a38f",
   "metadata": {},
   "outputs": [
    {
     "data": {
      "text/plain": [
       "0.9648580406239479"
      ]
     },
     "execution_count": 60,
     "metadata": {},
     "output_type": "execute_result"
    }
   ],
   "source": [
    "np.mean(cross_val_score(DecisionTreeClassifier(), x, y, cv=10, scoring='accuracy'))"
   ]
  },
  {
   "cell_type": "code",
   "execution_count": 88,
   "id": "0f3823de-1633-47b4-bfd8-0ac145d1ac57",
   "metadata": {},
   "outputs": [],
   "source": [
    "kbin_age= KBinsDiscretizer(n_bins=10, encode='ordinal', strategy='quantile')\n",
    "kbin_bmi= KBinsDiscretizer(n_bins=10, encode='ordinal', strategy='quantile')\n",
    "kbin_charges= KBinsDiscretizer(n_bins=10, encode='ordinal', strategy='quantile')"
   ]
  },
  {
   "cell_type": "code",
   "execution_count": 90,
   "id": "04aa07f8-3099-44cb-b940-38f40aba9f50",
   "metadata": {},
   "outputs": [],
   "source": [
    "trf = ColumnTransformer([\n",
    "    ('age', kbin_age, [0]),\n",
    "    ('bmi', kbin_bmi, [1]),\n",
    "    ('charges', kbin_charges, [2])\n",
    "])"
   ]
  },
  {
   "cell_type": "code",
   "execution_count": 94,
   "id": "49f8f7dc-baa7-4554-93ef-b259a786fdf8",
   "metadata": {},
   "outputs": [],
   "source": [
    "X_train_trf = trf.fit_transform(X_train, y_train)\n",
    "X_test_trf = trf.transform(X_test)"
   ]
  },
  {
   "cell_type": "code",
   "execution_count": 100,
   "id": "44538f53-353f-40f7-8648-b1e8d88b74cc",
   "metadata": {},
   "outputs": [
    {
     "data": {
      "text/plain": [
       "array([array([18. , 19. , 24. , 29. , 34. , 39.5, 45. , 49. , 54. , 59. , 64. ])],\n",
       "      dtype=object)"
      ]
     },
     "execution_count": 100,
     "metadata": {},
     "output_type": "execute_result"
    }
   ],
   "source": [
    "trf.named_transformers_['age'].bin_edges_"
   ]
  },
  {
   "cell_type": "code",
   "execution_count": 102,
   "id": "895f1146-a405-420c-99cb-36fa40b8b87a",
   "metadata": {},
   "outputs": [],
   "source": [
    "columns = pd.DataFrame({\n",
    "    'age': X_train['age'],\n",
    "    'age_trf': X_train_trf[:, 0],\n",
    "    'bmi': X_train['bmi'],\n",
    "    'bmi_trf' : X_train_trf[:, 1],\n",
    "    'charges' : X_train['charges'],\n",
    "    'charges_trf': X_train_trf[: , 2]\n",
    "})"
   ]
  },
  {
   "cell_type": "code",
   "execution_count": 106,
   "id": "c5ec19b4-609a-4699-80d3-887795ece3c8",
   "metadata": {},
   "outputs": [],
   "source": [
    "columns['age_label'] = pd.cut(x= X_train['age'], bins = trf.named_transformers_['age'].bin_edges_[0].tolist())\n",
    "columns['bmi_label'] = pd.cut(x= X_train['bmi'], bins = trf.named_transformers_['bmi'].bin_edges_[0].tolist())\n",
    "columns['charges_label'] = pd.cut(x = X_train['charges'], bins = trf.named_transformers_['charges'].bin_edges_[0].tolist())"
   ]
  },
  {
   "cell_type": "code",
   "execution_count": 110,
   "id": "4af95ed6-99aa-4f27-9ea8-87d809901643",
   "metadata": {},
   "outputs": [
    {
     "data": {
      "text/html": [
       "<div>\n",
       "<style scoped>\n",
       "    .dataframe tbody tr th:only-of-type {\n",
       "        vertical-align: middle;\n",
       "    }\n",
       "\n",
       "    .dataframe tbody tr th {\n",
       "        vertical-align: top;\n",
       "    }\n",
       "\n",
       "    .dataframe thead th {\n",
       "        text-align: right;\n",
       "    }\n",
       "</style>\n",
       "<table border=\"1\" class=\"dataframe\">\n",
       "  <thead>\n",
       "    <tr style=\"text-align: right;\">\n",
       "      <th></th>\n",
       "      <th>age</th>\n",
       "      <th>age_trf</th>\n",
       "      <th>bmi</th>\n",
       "      <th>bmi_trf</th>\n",
       "      <th>charges</th>\n",
       "      <th>charges_trf</th>\n",
       "      <th>age_label</th>\n",
       "      <th>bmi_label</th>\n",
       "      <th>charges_label</th>\n",
       "    </tr>\n",
       "  </thead>\n",
       "  <tbody>\n",
       "    <tr>\n",
       "      <th>560</th>\n",
       "      <td>46</td>\n",
       "      <td>6.0</td>\n",
       "      <td>19.95</td>\n",
       "      <td>0.0</td>\n",
       "      <td>9193.83850</td>\n",
       "      <td>4.0</td>\n",
       "      <td>(45.0, 49.0]</td>\n",
       "      <td>(15.96, 22.895]</td>\n",
       "      <td>(7631.03, 9575.442]</td>\n",
       "    </tr>\n",
       "    <tr>\n",
       "      <th>1285</th>\n",
       "      <td>47</td>\n",
       "      <td>6.0</td>\n",
       "      <td>24.32</td>\n",
       "      <td>1.0</td>\n",
       "      <td>8534.67180</td>\n",
       "      <td>4.0</td>\n",
       "      <td>(45.0, 49.0]</td>\n",
       "      <td>(22.895, 25.195]</td>\n",
       "      <td>(7631.03, 9575.442]</td>\n",
       "    </tr>\n",
       "    <tr>\n",
       "      <th>1142</th>\n",
       "      <td>52</td>\n",
       "      <td>7.0</td>\n",
       "      <td>24.86</td>\n",
       "      <td>1.0</td>\n",
       "      <td>27117.99378</td>\n",
       "      <td>8.0</td>\n",
       "      <td>(49.0, 54.0]</td>\n",
       "      <td>(22.895, 25.195]</td>\n",
       "      <td>(20152.926, 34829.676]</td>\n",
       "    </tr>\n",
       "    <tr>\n",
       "      <th>969</th>\n",
       "      <td>39</td>\n",
       "      <td>4.0</td>\n",
       "      <td>34.32</td>\n",
       "      <td>7.0</td>\n",
       "      <td>8596.82780</td>\n",
       "      <td>4.0</td>\n",
       "      <td>(34.0, 39.5]</td>\n",
       "      <td>(33.63, 35.815]</td>\n",
       "      <td>(7631.03, 9575.442]</td>\n",
       "    </tr>\n",
       "    <tr>\n",
       "      <th>486</th>\n",
       "      <td>54</td>\n",
       "      <td>8.0</td>\n",
       "      <td>21.47</td>\n",
       "      <td>0.0</td>\n",
       "      <td>12475.35130</td>\n",
       "      <td>6.0</td>\n",
       "      <td>(49.0, 54.0]</td>\n",
       "      <td>(15.96, 22.895]</td>\n",
       "      <td>(11497.952, 13897.525]</td>\n",
       "    </tr>\n",
       "  </tbody>\n",
       "</table>\n",
       "</div>"
      ],
      "text/plain": [
       "      age  age_trf    bmi  bmi_trf      charges  charges_trf     age_label  \\\n",
       "560    46      6.0  19.95      0.0   9193.83850          4.0  (45.0, 49.0]   \n",
       "1285   47      6.0  24.32      1.0   8534.67180          4.0  (45.0, 49.0]   \n",
       "1142   52      7.0  24.86      1.0  27117.99378          8.0  (49.0, 54.0]   \n",
       "969    39      4.0  34.32      7.0   8596.82780          4.0  (34.0, 39.5]   \n",
       "486    54      8.0  21.47      0.0  12475.35130          6.0  (49.0, 54.0]   \n",
       "\n",
       "             bmi_label           charges_label  \n",
       "560    (15.96, 22.895]     (7631.03, 9575.442]  \n",
       "1285  (22.895, 25.195]     (7631.03, 9575.442]  \n",
       "1142  (22.895, 25.195]  (20152.926, 34829.676]  \n",
       "969    (33.63, 35.815]     (7631.03, 9575.442]  \n",
       "486    (15.96, 22.895]  (11497.952, 13897.525]  "
      ]
     },
     "execution_count": 110,
     "metadata": {},
     "output_type": "execute_result"
    }
   ],
   "source": [
    "columns.head()"
   ]
  },
  {
   "cell_type": "code",
   "execution_count": 112,
   "id": "ece0d636-e84c-4908-953b-524f4b9613fe",
   "metadata": {},
   "outputs": [],
   "source": [
    "clf = DecisionTreeClassifier()"
   ]
  },
  {
   "cell_type": "code",
   "execution_count": 114,
   "id": "42a47a8b-ad96-4633-af25-e71b0aa28654",
   "metadata": {},
   "outputs": [
    {
     "data": {
      "text/plain": [
       "0.9589552238805971"
      ]
     },
     "execution_count": 114,
     "metadata": {},
     "output_type": "execute_result"
    }
   ],
   "source": [
    "clf.fit(X_train_trf, y_train)\n",
    "y_prd1 = clf.predict(X_test_trf)\n",
    "accuracy_score(y_test,y_prd1)"
   ]
  },
  {
   "cell_type": "code",
   "execution_count": 126,
   "id": "a2f4af7b-bbc7-4803-80aa-abaffe0715c1",
   "metadata": {},
   "outputs": [
    {
     "data": {
      "text/plain": [
       "0.9491751767478396"
      ]
     },
     "execution_count": 126,
     "metadata": {},
     "output_type": "execute_result"
    }
   ],
   "source": [
    "X_trf = trf.fit_transform(x)\n",
    "np.mean(cross_val_score(DecisionTreeClassifier(), X_trf, y ,cv=10, scoring='accuracy'))"
   ]
  },
  {
   "cell_type": "code",
   "execution_count": 128,
   "id": "0289daf8-e3e3-4b00-a56b-d9b6d4856954",
   "metadata": {},
   "outputs": [],
   "source": [
    "def discretize(bins , strategy):\n",
    "    kbin_age= KBinsDiscretizer(n_bins=bins , strategy=strategy, encode='ordinal')\n",
    "    kbin_bmi= KBinsDiscretizer(n_bins=bins, encode='ordinal', strategy=strategy)\n",
    "    kbin_charges= KBinsDiscretizer(n_bins=bins, encode='ordinal', strategy=strategy)\n",
    "\n",
    "    trf=ColumnTransformer([\n",
    "        ('age',kbin_age,[0]),\n",
    "        ('bmi',kbin_bmi,[1]),\n",
    "        ('charges',kbin_charges,[2])\n",
    "    ])\n",
    "    X_trf = trf.fit_transform(x)\n",
    "    print(np.mean(cross_val_score(DecisionTreeClassifier(), X_trf, y, cv=10, scoring='accuracy')))\n",
    "\n",
    "    plt.figure(figsize=(14,4))\n",
    "    plt.subplot(121)\n",
    "    plt.hist(x['age'])\n",
    "    plt.title('Before')\n",
    "    plt.subplot(122)\n",
    "    plt.hist(X_trf[:,0],color='r')\n",
    "    plt.title('After')\n",
    "    plt.show()\n",
    "\n",
    "    plt.figure(figsize=(14,4))\n",
    "    plt.subplot(121)\n",
    "    plt.hist(x['bmi'])\n",
    "    plt.title('Before')\n",
    "    plt.subplot(122)\n",
    "    plt.hist(X_trf[:,1],color='r')\n",
    "    plt.title('After')\n",
    "    plt.show()\n",
    "\n",
    "    plt.figure(figsize=(14,4))\n",
    "    plt.subplot(121)\n",
    "    plt.hist(x['charges'])\n",
    "    plt.title('Before')\n",
    "    plt.subplot(122)\n",
    "    plt.hist(X_trf[:,2],color='r')\n",
    "    plt.title('After')\n",
    "    plt.show()"
   ]
  },
  {
   "cell_type": "code",
   "execution_count": 146,
   "id": "c0f87f08-6b2c-4e54-b9ff-115630060400",
   "metadata": {},
   "outputs": [
    {
     "name": "stdout",
     "output_type": "stream",
     "text": [
      "0.9670968465940971\n"
     ]
    },
    {
     "data": {
      "image/png": "[encoded data removed]",
      "text/plain": [
       "<Figure size 1400x400 with 2 Axes>"
      ]
     },
     "metadata": {},
     "output_type": "display_data"
    },
    {
     "data": {
      "image/png": "[encoded data removed]",
      "text/plain": [
       "<Figure size 1400x400 with 2 Axes>"
      ]
     },
     "metadata": {},
     "output_type": "display_data"
    },
    {
     "data": {
      "image/png": "[encoded data removed]",
      "text/plain": [
       "<Figure size 1400x400 with 2 Axes>"
      ]
     },
     "metadata": {},
     "output_type": "display_data"
    }
   ],
   "source": [
    "discretize(15, 'kmeans')"
   ]
  }
 ],
 "metadata": {
  "kernelspec": {
   "display_name": "Python 3 (ipykernel)",
   "language": "python",
   "name": "python3"
  },
  "language_info": {
   "codemirror_mode": {
    "name": "ipython",
    "version": 3
   },
   "file_extension": ".py",
   "mimetype": "text/x-python",
   "name": "python",
   "nbconvert_exporter": "python",
   "pygments_lexer": "ipython3",
   "version": "3.12.7"
  }
 },
 "nbformat": 4,
 "nbformat_minor": 5
}
