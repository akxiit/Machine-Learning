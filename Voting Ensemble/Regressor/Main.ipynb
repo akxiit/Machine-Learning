{
 "cells": [
  {
   "cell_type": "code",
   "execution_count": 3,
   "id": "800b2216",
   "metadata": {},
   "outputs": [],
   "source": [
    "import numpy as np\n",
    "import pandas as pd"
   ]
  },
  {
   "cell_type": "code",
   "execution_count": 4,
   "id": "bca9082a",
   "metadata": {},
   "outputs": [],
   "source": [
    "df = pd.read_csv(\"Boston.csv\")"
   ]
  },
  {
   "cell_type": "code",
   "execution_count": 11,
   "id": "e4dec787",
   "metadata": {},
   "outputs": [],
   "source": [
    "df = df.iloc[:, 1:]"
   ]
  },
  {
   "cell_type": "code",
   "execution_count": 12,
   "id": "60960e21",
   "metadata": {},
   "outputs": [
    {
     "data": {
      "text/html": [
       "<div>\n",
       "<style scoped>\n",
       "    .dataframe tbody tr th:only-of-type {\n",
       "        vertical-align: middle;\n",
       "    }\n",
       "\n",
       "    .dataframe tbody tr th {\n",
       "        vertical-align: top;\n",
       "    }\n",
       "\n",
       "    .dataframe thead th {\n",
       "        text-align: right;\n",
       "    }\n",
       "</style>\n",
       "<table border=\"1\" class=\"dataframe\">\n",
       "  <thead>\n",
       "    <tr style=\"text-align: right;\">\n",
       "      <th></th>\n",
       "      <th>crim</th>\n",
       "      <th>zn</th>\n",
       "      <th>indus</th>\n",
       "      <th>chas</th>\n",
       "      <th>nox</th>\n",
       "      <th>rm</th>\n",
       "      <th>age</th>\n",
       "      <th>dis</th>\n",
       "      <th>rad</th>\n",
       "      <th>tax</th>\n",
       "      <th>ptratio</th>\n",
       "      <th>black</th>\n",
       "      <th>lstat</th>\n",
       "      <th>medv</th>\n",
       "    </tr>\n",
       "  </thead>\n",
       "  <tbody>\n",
       "    <tr>\n",
       "      <th>1</th>\n",
       "      <td>0.02731</td>\n",
       "      <td>0.0</td>\n",
       "      <td>7.07</td>\n",
       "      <td>0</td>\n",
       "      <td>0.469</td>\n",
       "      <td>6.421</td>\n",
       "      <td>78.9</td>\n",
       "      <td>4.9671</td>\n",
       "      <td>2</td>\n",
       "      <td>242</td>\n",
       "      <td>17.8</td>\n",
       "      <td>396.90</td>\n",
       "      <td>9.14</td>\n",
       "      <td>21.6</td>\n",
       "    </tr>\n",
       "    <tr>\n",
       "      <th>2</th>\n",
       "      <td>0.02729</td>\n",
       "      <td>0.0</td>\n",
       "      <td>7.07</td>\n",
       "      <td>0</td>\n",
       "      <td>0.469</td>\n",
       "      <td>7.185</td>\n",
       "      <td>61.1</td>\n",
       "      <td>4.9671</td>\n",
       "      <td>2</td>\n",
       "      <td>242</td>\n",
       "      <td>17.8</td>\n",
       "      <td>392.83</td>\n",
       "      <td>4.03</td>\n",
       "      <td>34.7</td>\n",
       "    </tr>\n",
       "    <tr>\n",
       "      <th>3</th>\n",
       "      <td>0.03237</td>\n",
       "      <td>0.0</td>\n",
       "      <td>2.18</td>\n",
       "      <td>0</td>\n",
       "      <td>0.458</td>\n",
       "      <td>6.998</td>\n",
       "      <td>45.8</td>\n",
       "      <td>6.0622</td>\n",
       "      <td>3</td>\n",
       "      <td>222</td>\n",
       "      <td>18.7</td>\n",
       "      <td>394.63</td>\n",
       "      <td>2.94</td>\n",
       "      <td>33.4</td>\n",
       "    </tr>\n",
       "    <tr>\n",
       "      <th>4</th>\n",
       "      <td>0.06905</td>\n",
       "      <td>0.0</td>\n",
       "      <td>2.18</td>\n",
       "      <td>0</td>\n",
       "      <td>0.458</td>\n",
       "      <td>7.147</td>\n",
       "      <td>54.2</td>\n",
       "      <td>6.0622</td>\n",
       "      <td>3</td>\n",
       "      <td>222</td>\n",
       "      <td>18.7</td>\n",
       "      <td>396.90</td>\n",
       "      <td>5.33</td>\n",
       "      <td>36.2</td>\n",
       "    </tr>\n",
       "    <tr>\n",
       "      <th>5</th>\n",
       "      <td>0.02985</td>\n",
       "      <td>0.0</td>\n",
       "      <td>2.18</td>\n",
       "      <td>0</td>\n",
       "      <td>0.458</td>\n",
       "      <td>6.430</td>\n",
       "      <td>58.7</td>\n",
       "      <td>6.0622</td>\n",
       "      <td>3</td>\n",
       "      <td>222</td>\n",
       "      <td>18.7</td>\n",
       "      <td>394.12</td>\n",
       "      <td>5.21</td>\n",
       "      <td>28.7</td>\n",
       "    </tr>\n",
       "  </tbody>\n",
       "</table>\n",
       "</div>"
      ],
      "text/plain": [
       "      crim   zn  indus  chas    nox     rm   age     dis  rad  tax  ptratio  \\\n",
       "1  0.02731  0.0   7.07     0  0.469  6.421  78.9  4.9671    2  242     17.8   \n",
       "2  0.02729  0.0   7.07     0  0.469  7.185  61.1  4.9671    2  242     17.8   \n",
       "3  0.03237  0.0   2.18     0  0.458  6.998  45.8  6.0622    3  222     18.7   \n",
       "4  0.06905  0.0   2.18     0  0.458  7.147  54.2  6.0622    3  222     18.7   \n",
       "5  0.02985  0.0   2.18     0  0.458  6.430  58.7  6.0622    3  222     18.7   \n",
       "\n",
       "    black  lstat  medv  \n",
       "1  396.90   9.14  21.6  \n",
       "2  392.83   4.03  34.7  \n",
       "3  394.63   2.94  33.4  \n",
       "4  396.90   5.33  36.2  \n",
       "5  394.12   5.21  28.7  "
      ]
     },
     "execution_count": 12,
     "metadata": {},
     "output_type": "execute_result"
    }
   ],
   "source": [
    "df.head()"
   ]
  },
  {
   "cell_type": "code",
   "execution_count": 13,
   "id": "8eb6933e",
   "metadata": {},
   "outputs": [],
   "source": [
    "x = df.drop(columns=[\"medv\"])\n",
    "y = df['medv']"
   ]
  },
  {
   "cell_type": "code",
   "execution_count": 15,
   "id": "9e743a74",
   "metadata": {},
   "outputs": [],
   "source": [
    "from sklearn.model_selection import train_test_split\n",
    "\n",
    "x_train, x_test, y_train, y_test = train_test_split(x, y, test_size=0.2, random_state=42)"
   ]
  },
  {
   "cell_type": "code",
   "execution_count": 17,
   "id": "9a411f38",
   "metadata": {},
   "outputs": [
    {
     "data": {
      "text/plain": [
       "(404, 13)"
      ]
     },
     "execution_count": 17,
     "metadata": {},
     "output_type": "execute_result"
    }
   ],
   "source": [
    "x_train.shape"
   ]
  },
  {
   "cell_type": "code",
   "execution_count": 19,
   "id": "098dd94d",
   "metadata": {},
   "outputs": [
    {
     "data": {
      "text/plain": [
       "(404,)"
      ]
     },
     "execution_count": 19,
     "metadata": {},
     "output_type": "execute_result"
    }
   ],
   "source": [
    "y_train.shape"
   ]
  },
  {
   "cell_type": "code",
   "execution_count": 20,
   "id": "e7c788fd",
   "metadata": {},
   "outputs": [],
   "source": [
    "from sklearn.linear_model import LinearRegression\n",
    "from sklearn.tree import DecisionTreeRegressor\n",
    "from sklearn.svm import SVR\n",
    "from sklearn.model_selection import cross_val_score\n",
    "\n",
    "\n",
    "clf1 = LinearRegression()\n",
    "clf2 = DecisionTreeRegressor()\n",
    "clf3 = SVR()\n"
   ]
  },
  {
   "cell_type": "code",
   "execution_count": 21,
   "id": "d12d4bb7",
   "metadata": {},
   "outputs": [],
   "source": [
    "est = [('lr', clf1), ('dt', clf2), ('svr', clf3)]"
   ]
  },
  {
   "cell_type": "code",
   "execution_count": 22,
   "id": "89f059bc",
   "metadata": {},
   "outputs": [
    {
     "name": "stdout",
     "output_type": "stream",
     "text": [
      "Model: lr 0.18\n",
      "Model: dt -0.12\n",
      "Model: svr -0.42\n"
     ]
    }
   ],
   "source": [
    "for estimator in est:\n",
    "    score = cross_val_score(estimator[1], x, y, cv=10, scoring='r2')\n",
    "    print(f\"Model: {estimator[0]}\", np.round(np.mean(score),2))"
   ]
  },
  {
   "cell_type": "code",
   "execution_count": 23,
   "id": "55153fee",
   "metadata": {},
   "outputs": [],
   "source": [
    "from sklearn.ensemble import VotingRegressor"
   ]
  },
  {
   "cell_type": "code",
   "execution_count": null,
   "id": "71b4bf55",
   "metadata": {},
   "outputs": [
    {
     "name": "stdout",
     "output_type": "stream",
     "text": [
      "Model: Voting Regressor 0.44\n"
     ]
    }
   ],
   "source": [
    "vt = VotingRegressor(estimators=est)\n",
    "score = cross_val_score(vt, x, y, cv=10, scoring='r2')\n",
    "print(f\"Model: Voting Regressor\", np.round(np.mean(score),2))"
   ]
  },
  {
   "cell_type": "code",
   "execution_count": null,
   "id": "e97e5902",
   "metadata": {},
   "outputs": [],
   "source": [
    "# Here 3 models so we use three for loop for find out best Weight"
   ]
  },
  {
   "cell_type": "code",
   "execution_count": null,
   "id": "9fb076c9",
   "metadata": {},
   "outputs": [
    {
     "name": "stdout",
     "output_type": "stream",
     "text": [
      "Model: Voting Regressor 0.45 weights: (1, 1, 1)\n",
      "Model: Voting Regressor 0.35 weights: (1, 1, 2)\n",
      "Model: Voting Regressor 0.27 weights: (1, 1, 3)\n",
      "Model: Voting Regressor 0.41 weights: (1, 2, 1)\n",
      "Model: Voting Regressor 0.41 weights: (1, 2, 2)\n",
      "Model: Voting Regressor 0.35 weights: (1, 2, 3)\n",
      "Model: Voting Regressor 0.35 weights: (1, 3, 1)\n",
      "Model: Voting Regressor 0.32 weights: (1, 3, 2)\n",
      "Model: Voting Regressor 0.39 weights: (1, 3, 3)\n",
      "Model: Voting Regressor 0.46 weights: (2, 1, 1)\n",
      "Model: Voting Regressor 0.42 weights: (2, 1, 2)\n",
      "Model: Voting Regressor 0.35 weights: (2, 1, 3)\n",
      "Model: Voting Regressor 0.39 weights: (2, 2, 1)\n",
      "Model: Voting Regressor 0.44 weights: (2, 2, 2)\n",
      "Model: Voting Regressor 0.42 weights: (2, 2, 3)\n",
      "Model: Voting Regressor 0.42 weights: (2, 3, 1)\n",
      "Model: Voting Regressor 0.43 weights: (2, 3, 2)\n",
      "Model: Voting Regressor 0.36 weights: (2, 3, 3)\n",
      "Model: Voting Regressor 0.41 weights: (3, 1, 1)\n",
      "Model: Voting Regressor 0.42 weights: (3, 1, 2)\n",
      "Model: Voting Regressor 0.4 weights: (3, 1, 3)\n",
      "Model: Voting Regressor 0.45 weights: (3, 2, 1)\n",
      "Model: Voting Regressor 0.45 weights: (3, 2, 2)\n",
      "Model: Voting Regressor 0.43 weights: (3, 2, 3)\n",
      "Model: Voting Regressor 0.42 weights: (3, 3, 1)\n",
      "Model: Voting Regressor 0.46 weights: (3, 3, 2)\n",
      "Model: Voting Regressor 0.45 weights: (3, 3, 3)\n"
     ]
    }
   ],
   "source": [
    "for i in range(1,4):\n",
    "    for j in range(1,4):\n",
    "        for k in range(1,4):\n",
    "            vt = VotingRegressor(estimators=est, weights=[i, j, k])\n",
    "            score = cross_val_score(vt, x, y, cv=10, scoring='r2')\n",
    "            print(f\"Model: Voting Regressor\", np.round(np.mean(score),2), f\"weights: {i, j, k}\")"
   ]
  },
  {
   "cell_type": "code",
   "execution_count": 26,
   "id": "10ec631d",
   "metadata": {},
   "outputs": [
    {
     "name": "stdout",
     "output_type": "stream",
     "text": [
      "Model: Voting Regressor 0.44\n"
     ]
    }
   ],
   "source": [
    "vt = VotingRegressor(estimators=est, weights=[3, 3, 2])\n",
    "score = cross_val_score(vt, x, y, cv=10, scoring='r2')\n",
    "print(f\"Model: Voting Regressor\", np.round(np.mean(score),2))"
   ]
  },
  {
   "cell_type": "code",
   "execution_count": 28,
   "id": "1f8a620f",
   "metadata": {},
   "outputs": [],
   "source": [
    "# using same algorithm for all models\n",
    "\n",
    "\n",
    "dt1 = DecisionTreeRegressor(max_depth=1)\n",
    "dt2 = DecisionTreeRegressor(max_depth=3)\n",
    "dt3 = DecisionTreeRegressor(max_depth=5)\n",
    "dt4 = DecisionTreeRegressor(max_depth=7)\n",
    "dt5 = DecisionTreeRegressor(max_depth=None)"
   ]
  },
  {
   "cell_type": "code",
   "execution_count": 29,
   "id": "9e8d19e8",
   "metadata": {},
   "outputs": [],
   "source": [
    "est = [('dt1', dt1), ('dt2', dt2), ('dt3', dt3), ('dt4', dt4), ('dt5', dt5)]"
   ]
  },
  {
   "cell_type": "code",
   "execution_count": 30,
   "id": "78866252",
   "metadata": {},
   "outputs": [
    {
     "name": "stdout",
     "output_type": "stream",
     "text": [
      "Model: dt1 -0.85\n",
      "Model: dt2 -0.2\n",
      "Model: dt3 0.03\n",
      "Model: dt4 -0.03\n",
      "Model: dt5 -0.04\n"
     ]
    }
   ],
   "source": [
    "for estimator in est:\n",
    "    score = cross_val_score(estimator[1], x, y, cv=10, scoring='r2')\n",
    "    print(f\"Model: {estimator[0]}\", np.round(np.mean(score),2))"
   ]
  },
  {
   "cell_type": "code",
   "execution_count": 31,
   "id": "49dfe475",
   "metadata": {},
   "outputs": [
    {
     "name": "stdout",
     "output_type": "stream",
     "text": [
      "Model: Voting Regressor 0.12\n"
     ]
    }
   ],
   "source": [
    "vt1 = VotingRegressor(estimators=est)\n",
    "score = cross_val_score(vt1, x, y, cv=10, scoring='r2')\n",
    "print(f\"Model: Voting Regressor\", np.round(np.mean(score),2))"
   ]
  },
  {
   "cell_type": "code",
   "execution_count": null,
   "id": "8f0eae3e",
   "metadata": {},
   "outputs": [],
   "source": []
  }
 ],
 "metadata": {
  "kernelspec": {
   "display_name": "base",
   "language": "python",
   "name": "python3"
  },
  "language_info": {
   "codemirror_mode": {
    "name": "ipython",
    "version": 3
   },
   "file_extension": ".py",
   "mimetype": "text/x-python",
   "name": "python",
   "nbconvert_exporter": "python",
   "pygments_lexer": "ipython3",
   "version": "3.12.7"
  }
 },
 "nbformat": 4,
 "nbformat_minor": 5
}
