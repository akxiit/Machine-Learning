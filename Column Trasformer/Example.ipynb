{
 "cells": [
  {
   "cell_type": "code",
   "execution_count": 2,
   "id": "27684cf2-40f4-40c8-832d-4289b8ba02bc",
   "metadata": {},
   "outputs": [],
   "source": [
    "import numpy as np\n",
    "import pandas as pd"
   ]
  },
  {
   "cell_type": "code",
   "execution_count": 44,
   "id": "cf8afd6b-bf93-44bb-991b-6756f3806081",
   "metadata": {},
   "outputs": [],
   "source": [
    "from sklearn.preprocessing import OneHotEncoder\n",
    "from sklearn.preprocessing import OrdinalEncoder"
   ]
  },
  {
   "cell_type": "code",
   "execution_count": 4,
   "id": "3fb77c01-d922-4259-a952-700bb9fe6ec6",
   "metadata": {},
   "outputs": [],
   "source": [
    "df = pd.read_csv('cinema_hall_ticket_sales.csv')"
   ]
  },
  {
   "cell_type": "code",
   "execution_count": 46,
   "id": "05eb8818-9f40-4f27-93ed-540d9cfd94c0",
   "metadata": {},
   "outputs": [
    {
     "data": {
      "text/html": [
       "<div>\n",
       "<style scoped>\n",
       "    .dataframe tbody tr th:only-of-type {\n",
       "        vertical-align: middle;\n",
       "    }\n",
       "\n",
       "    .dataframe tbody tr th {\n",
       "        vertical-align: top;\n",
       "    }\n",
       "\n",
       "    .dataframe thead th {\n",
       "        text-align: right;\n",
       "    }\n",
       "</style>\n",
       "<table border=\"1\" class=\"dataframe\">\n",
       "  <thead>\n",
       "    <tr style=\"text-align: right;\">\n",
       "      <th></th>\n",
       "      <th>Ticket_ID</th>\n",
       "      <th>Age</th>\n",
       "      <th>Ticket_Price</th>\n",
       "      <th>Movie_Genre</th>\n",
       "      <th>Seat_Type</th>\n",
       "      <th>Number_of_Person</th>\n",
       "      <th>Purchase_Again</th>\n",
       "    </tr>\n",
       "  </thead>\n",
       "  <tbody>\n",
       "    <tr>\n",
       "      <th>860</th>\n",
       "      <td>Z8170</td>\n",
       "      <td>27</td>\n",
       "      <td>24.04</td>\n",
       "      <td>Action</td>\n",
       "      <td>Premium</td>\n",
       "      <td>2</td>\n",
       "      <td>No</td>\n",
       "    </tr>\n",
       "    <tr>\n",
       "      <th>1330</th>\n",
       "      <td>W7299</td>\n",
       "      <td>56</td>\n",
       "      <td>22.88</td>\n",
       "      <td>Sci-Fi</td>\n",
       "      <td>Standard</td>\n",
       "      <td>Alone</td>\n",
       "      <td>No</td>\n",
       "    </tr>\n",
       "    <tr>\n",
       "      <th>388</th>\n",
       "      <td>X4895</td>\n",
       "      <td>22</td>\n",
       "      <td>18.86</td>\n",
       "      <td>Sci-Fi</td>\n",
       "      <td>Standard</td>\n",
       "      <td>5</td>\n",
       "      <td>Yes</td>\n",
       "    </tr>\n",
       "    <tr>\n",
       "      <th>911</th>\n",
       "      <td>E7698</td>\n",
       "      <td>41</td>\n",
       "      <td>18.65</td>\n",
       "      <td>Action</td>\n",
       "      <td>VIP</td>\n",
       "      <td>3</td>\n",
       "      <td>Yes</td>\n",
       "    </tr>\n",
       "    <tr>\n",
       "      <th>681</th>\n",
       "      <td>D2037</td>\n",
       "      <td>51</td>\n",
       "      <td>10.86</td>\n",
       "      <td>Comedy</td>\n",
       "      <td>Premium</td>\n",
       "      <td>3</td>\n",
       "      <td>Yes</td>\n",
       "    </tr>\n",
       "  </tbody>\n",
       "</table>\n",
       "</div>"
      ],
      "text/plain": [
       "     Ticket_ID  Age  Ticket_Price Movie_Genre Seat_Type Number_of_Person  \\\n",
       "860      Z8170   27         24.04      Action   Premium                2   \n",
       "1330     W7299   56         22.88      Sci-Fi  Standard            Alone   \n",
       "388      X4895   22         18.86      Sci-Fi  Standard                5   \n",
       "911      E7698   41         18.65      Action       VIP                3   \n",
       "681      D2037   51         10.86      Comedy   Premium                3   \n",
       "\n",
       "     Purchase_Again  \n",
       "860              No  \n",
       "1330             No  \n",
       "388             Yes  \n",
       "911             Yes  \n",
       "681             Yes  "
      ]
     },
     "execution_count": 46,
     "metadata": {},
     "output_type": "execute_result"
    }
   ],
   "source": [
    "df.sample(5)"
   ]
  },
  {
   "cell_type": "code",
   "execution_count": 14,
   "id": "eb01dbd9-af77-45b0-858c-8bc82b387148",
   "metadata": {},
   "outputs": [
    {
     "data": {
      "text/plain": [
       "array(['Standard', 'VIP', 'Premium'], dtype=object)"
      ]
     },
     "execution_count": 14,
     "metadata": {},
     "output_type": "execute_result"
    }
   ],
   "source": [
    "df['Seat_Type'].unique()     # ordinal encoding"
   ]
  },
  {
   "cell_type": "code",
   "execution_count": 16,
   "id": "f1779c30-b47b-4d97-b61c-66eb80409c29",
   "metadata": {},
   "outputs": [
    {
     "data": {
      "text/plain": [
       "array(['Comedy', 'Drama', 'Horror', 'Action', 'Sci-Fi'], dtype=object)"
      ]
     },
     "execution_count": 16,
     "metadata": {},
     "output_type": "execute_result"
    }
   ],
   "source": [
    "df['Movie_Genre'].unique()     # OneHotEncoding"
   ]
  },
  {
   "cell_type": "code",
   "execution_count": 20,
   "id": "f27e55a8-cd8f-4ef4-a58c-149503f308f7",
   "metadata": {},
   "outputs": [
    {
     "data": {
      "text/plain": [
       "array(['7', 'Alone', '3', '6', '4', '2', '5'], dtype=object)"
      ]
     },
     "execution_count": 20,
     "metadata": {},
     "output_type": "execute_result"
    }
   ],
   "source": [
    "df['Number_of_Person'].unique()"
   ]
  },
  {
   "cell_type": "code",
   "execution_count": 18,
   "id": "727a2416-3489-484a-8181-4700186949a1",
   "metadata": {},
   "outputs": [
    {
     "data": {
      "text/plain": [
       "Ticket_ID           0\n",
       "Age                 0\n",
       "Ticket_Price        0\n",
       "Movie_Genre         0\n",
       "Seat_Type           0\n",
       "Number_of_Person    0\n",
       "Purchase_Again      0\n",
       "dtype: int64"
      ]
     },
     "execution_count": 18,
     "metadata": {},
     "output_type": "execute_result"
    }
   ],
   "source": [
    "df.isnull().sum()"
   ]
  },
  {
   "cell_type": "code",
   "execution_count": 34,
   "id": "528045e1-3023-4ef5-beb5-92a63d67f087",
   "metadata": {},
   "outputs": [],
   "source": [
    "from sklearn.model_selection import train_test_split\n",
    "\n",
    "X_train, X_test, y_train, y_test = train_test_split(df.drop(columns = ['Ticket_ID']), df['Purchase_Again'], test_size=0.3)"
   ]
  },
  {
   "cell_type": "code",
   "execution_count": 40,
   "id": "80566e2d-06ed-4fe9-a9b8-769551feb2c6",
   "metadata": {},
   "outputs": [
    {
     "data": {
      "text/plain": [
       "(432, 6)"
      ]
     },
     "execution_count": 40,
     "metadata": {},
     "output_type": "execute_result"
    }
   ],
   "source": [
    "X_test.shape"
   ]
  },
  {
   "cell_type": "code",
   "execution_count": 42,
   "id": "e6c45e09-6aae-432e-90b2-6993b10b4c04",
   "metadata": {},
   "outputs": [],
   "source": [
    "from sklearn.compose import ColumnTransformer"
   ]
  },
  {
   "cell_type": "code",
   "execution_count": 48,
   "id": "68be04e7-a017-4074-8ff5-2c76a0297e01",
   "metadata": {},
   "outputs": [],
   "source": [
    "transformer = ColumnTransformer(transformers=[\n",
    "    ('tnf1' , OrdinalEncoder(categories=[['Standard','Premium','VIP']]), ['Seat_Type']),\n",
    "    ('tnf2', OneHotEncoder(sparse_output=False, drop='first'), ['Movie_Genre', 'Number_of_Person'])\n",
    "], remainder= 'passthrough' )"
   ]
  },
  {
   "cell_type": "code",
   "execution_count": 58,
   "id": "b4cf3146-a629-45f3-b7ed-eba033ff7a0e",
   "metadata": {},
   "outputs": [
    {
     "data": {
      "text/plain": [
       "(1008, 14)"
      ]
     },
     "execution_count": 58,
     "metadata": {},
     "output_type": "execute_result"
    }
   ],
   "source": [
    "transformer.fit_transform(X_train).shape"
   ]
  },
  {
   "cell_type": "code",
   "execution_count": 60,
   "id": "26deb1cf-e3dc-4792-96e7-9d0c96e9f96d",
   "metadata": {},
   "outputs": [
    {
     "data": {
      "text/plain": [
       "(432, 14)"
      ]
     },
     "execution_count": 60,
     "metadata": {},
     "output_type": "execute_result"
    }
   ],
   "source": [
    "transformer.fit_transform(X_test).shape"
   ]
  }
 ],
 "metadata": {
  "kernelspec": {
   "display_name": "Python 3 (ipykernel)",
   "language": "python",
   "name": "python3"
  },
  "language_info": {
   "codemirror_mode": {
    "name": "ipython",
    "version": 3
   },
   "file_extension": ".py",
   "mimetype": "text/x-python",
   "name": "python",
   "nbconvert_exporter": "python",
   "pygments_lexer": "ipython3",
   "version": "3.12.7"
  }
 },
 "nbformat": 4,
 "nbformat_minor": 5
}
